{
  "nbformat": 4,
  "nbformat_minor": 0,
  "metadata": {
    "colab": {
      "name": "chatbot",
      "provenance": []
    },
    "kernelspec": {
      "name": "python3",
      "display_name": "Python 3"
    }
  },
  "cells": [
    {
      "cell_type": "code",
      "metadata": {
        "id": "c8lF1j8AmDL5"
      },
      "source": [
        "!pip install chatterbot\r\n"
      ],
      "execution_count": null,
      "outputs": []
    },
    {
      "cell_type": "code",
      "metadata": {
        "id": "shezqDXimfTV"
      },
      "source": [
        "from chatterbot import ChatBot\r\n",
        "from chatterbot.trainers import ListTrainer"
      ],
      "execution_count": 58,
      "outputs": []
    },
    {
      "cell_type": "code",
      "metadata": {
        "id": "RKVadp5AnBbM"
      },
      "source": [
        "bot = ChatBot(\"Digi Hung\")"
      ],
      "execution_count": 59,
      "outputs": []
    },
    {
      "cell_type": "code",
      "metadata": {
        "id": "X-xmSJsanLxr"
      },
      "source": [
        "conversation = {\r\n",
        "    \r\n",
        "    'hi there',\r\n",
        "    'how are you?',\r\n",
        "    'My name is Digi Hung',\r\n",
        "    'How you feelin ?',\r\n",
        "    'If you want to take a test to test you anxiety levels type: test ',\r\n",
        "    'Hello'\r\n",
        "    \r\n",
        "}"
      ],
      "execution_count": 60,
      "outputs": []
    },
    {
      "cell_type": "code",
      "metadata": {
        "id": "Ov3WtmXBnbH9"
      },
      "source": [
        "trainer = ListTrainer(bot)"
      ],
      "execution_count": 61,
      "outputs": []
    },
    {
      "cell_type": "code",
      "metadata": {
        "colab": {
          "base_uri": "https://localhost:8080/"
        },
        "id": "NpQ8zBIHnjeU",
        "outputId": "a9c6567c-a859-4cb2-97a7-96485ddc7937"
      },
      "source": [
        "trainer.train(conversation)"
      ],
      "execution_count": 62,
      "outputs": [
        {
          "output_type": "stream",
          "text": [
            "List Trainer: [####################] 100%\n"
          ],
          "name": "stdout"
        }
      ]
    },
    {
      "cell_type": "code",
      "metadata": {
        "id": "eOAeCPPtntYM"
      },
      "source": [
        "#answer = bot.get_response(\"What is your name?\")\r\n",
        "#print(answer)\r\n",
        "sum =0"
      ],
      "execution_count": 64,
      "outputs": []
    },
    {
      "cell_type": "code",
      "metadata": {
        "id": "mbIGjbgho0hO"
      },
      "source": [
        "while True:\r\n",
        "  query=input()\r\n",
        "  if query =='bye':\r\n",
        "    print(\"bye\")\r\n",
        "    break\r\n",
        "  if query =='test':\r\n",
        "    print(\"Would you like to proceed to take the test? Enter your choice as y or n\")\r\n",
        "    flag = input()\r\n",
        "    if flag == 'y':\r\n",
        "      question = [ \"How often have you been bothered by feeling nervous, anxious or on edge over the last two weeks?\" , \"How often have you been bothered by not being able to stop or control worrying over the last two weeks?\" , \"How often have you been bothered by worrying too much about different things over the last two weeks?\" , \"How often have you been troubled in relaxing in past two weeks?\" , \"How often have you been bothered by being so restless that it is hard to sit still over the last two weeks?\" , \"How often have you been bothered by becoming easily annoyed or irritable over the last two weeks?\" , \"How often have you been bothered by feeling afraid as if something awful might happen over the last two weeks?\"]\r\n",
        "      for x in question:\r\n",
        "        print(\"\\n\")\r\n",
        "        print(x)\r\n",
        "        print(\"1 - Never \\n2 - Sometimes \\n3 - 50% of the times\\n4 - Everyday\")\r\n",
        "        temp = input()\r\n",
        "        temp = int(temp)\r\n",
        "        sum = sum +temp -1\r\n",
        "      if sum>=0 and sum<=7:\r\n",
        "        print(\"Your score is:\" , sum)\r\n",
        "        print(\" It's okay to take a bit of stress it helps you improve your day-to-day life, as we can see as per your score you having a normal reaction to any tough situation\")\r\n",
        "        print(\"cheers and bye-bye\")\r\n",
        "        break\r\n",
        "      if sum >=8 and sum <=10:\r\n",
        "        print(\"Your score is:\" , sum)\r\n",
        "        print(\" It's all right to take a bit of stress , mavbe you are goin through a stressful situation , and your mind is responding to it \")\r\n",
        "        break     \r\n",
        "      if sum >=11 and sum <=15:\r\n",
        "        print(\"Your score is:\" , sum)\r\n",
        "        print(\" Don't woory situation is not alarming yet, you can still help yourself a bit to go back in the common range.\")\r\n",
        "        break\r\n",
        "      if sum >=15 and sum <=21:\r\n",
        "        print(\"Your score is:\" , sum)\r\n",
        "        print(\" Your score falls into the high range - anxiety has probably gotten in the way of you going to work, meeting friends, or doing the stuff that matters to you. This isn’t a diagnosis but it looks like it’s time to get help.\")\r\n",
        "        break\r\n",
        "          \r\n",
        "  answer = bot.get_response(query)\r\n",
        "  print(answer)  "
      ],
      "execution_count": null,
      "outputs": []
    }
  ]
}
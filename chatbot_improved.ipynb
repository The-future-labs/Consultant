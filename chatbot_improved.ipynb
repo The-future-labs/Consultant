{
  "nbformat": 4,
  "nbformat_minor": 0,
  "metadata": {
    "colab": {
      "name": "chatbot_improved.ipynb",
      "provenance": [],
      "collapsed_sections": []
    },
    "kernelspec": {
      "name": "python3",
      "display_name": "Python 3"
    }
  },
  "cells": [
    {
      "cell_type": "code",
      "metadata": {
        "id": "-CGaFnjgG3My"
      },
      "source": [
        "import nltk\r\n",
        "from nltk.stem.lancaster import LancasterStemmer\r\n",
        "stemmer = LancasterStemmer()\r\n",
        "import numpy\r\n",
        "import random\r\n",
        "import json"
      ],
      "execution_count": 3,
      "outputs": []
    },
    {
      "cell_type": "code",
      "metadata": {
        "id": "KDrKLAdYIRJo",
        "colab": {
          "base_uri": "https://localhost:8080/",
          "height": 229
        },
        "outputId": "8ae85c2c-3849-40ca-e9cd-166ecac67de3"
      },
      "source": [
        "with open('intents.json') as file:\r\n",
        "    data = json.load(file)\r\n",
        "\r\n",
        "try:\r\n",
        "  with open(\"data.pickle\", \"rb\") as f:\r\n",
        "        words, labels, training, output = pickle.load(f)\r\n",
        "except:\r\n",
        "  words = []\r\n",
        "  labels = []\r\n",
        "  docs_x = []\r\n",
        "  docs_y = []\r\n",
        "\r\n",
        "  for intent in data[\"intents\"]:\r\n",
        "    for pattern in intent[\"patterns\"]:\r\n",
        "      wrds = nltk.word_tokenize(pattern)\r\n",
        "      words.extend(wrds)\r\n",
        "      docs_x.append(wrds)\r\n",
        "      docs_y.append(intent[\"tag\"])\r\n",
        "\r\n",
        "      if intent[\"tag\"] not in labels:\r\n",
        "            labels.append(intent[\"tag\"])"
      ],
      "execution_count": 5,
      "outputs": [
        {
          "output_type": "error",
          "ename": "FileNotFoundError",
          "evalue": "ignored",
          "traceback": [
            "\u001b[0;31m---------------------------------------------------------------------------\u001b[0m",
            "\u001b[0;31mFileNotFoundError\u001b[0m                         Traceback (most recent call last)",
            "\u001b[0;32m<ipython-input-5-e35656b661af>\u001b[0m in \u001b[0;36m<module>\u001b[0;34m()\u001b[0m\n\u001b[0;32m----> 1\u001b[0;31m \u001b[0;32mwith\u001b[0m \u001b[0mopen\u001b[0m\u001b[0;34m(\u001b[0m\u001b[0;34m'intents.json'\u001b[0m\u001b[0;34m)\u001b[0m \u001b[0;32mas\u001b[0m \u001b[0mfile\u001b[0m\u001b[0;34m:\u001b[0m\u001b[0;34m\u001b[0m\u001b[0;34m\u001b[0m\u001b[0m\n\u001b[0m\u001b[1;32m      2\u001b[0m     \u001b[0mdata\u001b[0m \u001b[0;34m=\u001b[0m \u001b[0mjson\u001b[0m\u001b[0;34m.\u001b[0m\u001b[0mload\u001b[0m\u001b[0;34m(\u001b[0m\u001b[0mfile\u001b[0m\u001b[0;34m)\u001b[0m\u001b[0;34m\u001b[0m\u001b[0;34m\u001b[0m\u001b[0m\n\u001b[1;32m      3\u001b[0m \u001b[0;34m\u001b[0m\u001b[0m\n\u001b[1;32m      4\u001b[0m \u001b[0;32mtry\u001b[0m\u001b[0;34m:\u001b[0m\u001b[0;34m\u001b[0m\u001b[0;34m\u001b[0m\u001b[0m\n\u001b[1;32m      5\u001b[0m   \u001b[0;32mwith\u001b[0m \u001b[0mopen\u001b[0m\u001b[0;34m(\u001b[0m\u001b[0;34m\"data.pickle\"\u001b[0m\u001b[0;34m,\u001b[0m \u001b[0;34m\"rb\"\u001b[0m\u001b[0;34m)\u001b[0m \u001b[0;32mas\u001b[0m \u001b[0mf\u001b[0m\u001b[0;34m:\u001b[0m\u001b[0;34m\u001b[0m\u001b[0;34m\u001b[0m\u001b[0m\n",
            "\u001b[0;31mFileNotFoundError\u001b[0m: [Errno 2] No such file or directory: 'intents.json'"
          ]
        }
      ]
    },
    {
      "cell_type": "code",
      "metadata": {
        "id": "fDmdJJxnIpGQ",
        "colab": {
          "base_uri": "https://localhost:8080/",
          "height": 229
        },
        "outputId": "54936a8e-534f-40ca-a27f-1accf3676a90"
      },
      "source": [
        "words = [stemmer.stem(w.lower()) for w in words if w != \"?\"]\r\n",
        "words = sorted(list(set(words)))\r\n",
        "\r\n",
        "labels = sorted(labels)\r\n",
        "\r\n",
        "training = []\r\n",
        "output = []\r\n",
        "\r\n",
        "out_empty = [0 for _ in range(len(labels))]\r\n",
        "\r\n",
        "for x, doc in enumerate(docs_x):\r\n",
        "  bag = []\r\n",
        "\r\n",
        "  wrds = [stemmer.stem(w.lower()) for w in doc]\r\n",
        "\r\n",
        "  for w in words:\r\n",
        "    if w in wrds:\r\n",
        "            bag.append(1)\r\n",
        "    else:\r\n",
        "            bag.append(0)\r\n",
        "\r\n",
        "  output_row = out_empty[:]\r\n",
        "  output_row[labels.index(docs_y[x])] = 1\r\n",
        "\r\n",
        "  training.append(bag)\r\n",
        "  output.append(output_row)\r\n",
        "\r\n",
        "training = numpy.array(training)\r\n",
        "output = numpy.array(output)"
      ],
      "execution_count": 6,
      "outputs": [
        {
          "output_type": "error",
          "ename": "NameError",
          "evalue": "ignored",
          "traceback": [
            "\u001b[0;31m---------------------------------------------------------------------------\u001b[0m",
            "\u001b[0;31mNameError\u001b[0m                                 Traceback (most recent call last)",
            "\u001b[0;32m<ipython-input-6-17eaf8ecc560>\u001b[0m in \u001b[0;36m<module>\u001b[0;34m()\u001b[0m\n\u001b[0;32m----> 1\u001b[0;31m \u001b[0mwords\u001b[0m \u001b[0;34m=\u001b[0m \u001b[0;34m[\u001b[0m\u001b[0mstemmer\u001b[0m\u001b[0;34m.\u001b[0m\u001b[0mstem\u001b[0m\u001b[0;34m(\u001b[0m\u001b[0mw\u001b[0m\u001b[0;34m.\u001b[0m\u001b[0mlower\u001b[0m\u001b[0;34m(\u001b[0m\u001b[0;34m)\u001b[0m\u001b[0;34m)\u001b[0m \u001b[0;32mfor\u001b[0m \u001b[0mw\u001b[0m \u001b[0;32min\u001b[0m \u001b[0mwords\u001b[0m \u001b[0;32mif\u001b[0m \u001b[0mw\u001b[0m \u001b[0;34m!=\u001b[0m \u001b[0;34m\"?\"\u001b[0m\u001b[0;34m]\u001b[0m\u001b[0;34m\u001b[0m\u001b[0;34m\u001b[0m\u001b[0m\n\u001b[0m\u001b[1;32m      2\u001b[0m \u001b[0mwords\u001b[0m \u001b[0;34m=\u001b[0m \u001b[0msorted\u001b[0m\u001b[0;34m(\u001b[0m\u001b[0mlist\u001b[0m\u001b[0;34m(\u001b[0m\u001b[0mset\u001b[0m\u001b[0;34m(\u001b[0m\u001b[0mwords\u001b[0m\u001b[0;34m)\u001b[0m\u001b[0;34m)\u001b[0m\u001b[0;34m)\u001b[0m\u001b[0;34m\u001b[0m\u001b[0;34m\u001b[0m\u001b[0m\n\u001b[1;32m      3\u001b[0m \u001b[0;34m\u001b[0m\u001b[0m\n\u001b[1;32m      4\u001b[0m \u001b[0mlabels\u001b[0m \u001b[0;34m=\u001b[0m \u001b[0msorted\u001b[0m\u001b[0;34m(\u001b[0m\u001b[0mlabels\u001b[0m\u001b[0;34m)\u001b[0m\u001b[0;34m\u001b[0m\u001b[0;34m\u001b[0m\u001b[0m\n\u001b[1;32m      5\u001b[0m \u001b[0;34m\u001b[0m\u001b[0m\n",
            "\u001b[0;31mNameError\u001b[0m: name 'words' is not defined"
          ]
        }
      ]
    },
    {
      "cell_type": "code",
      "metadata": {
        "id": "Ou2c8iZ4I2ZA"
      },
      "source": [
        "tensorflow.reset_default_graph()\r\n",
        "\r\n",
        "net = tflearn.input_data(shape=[None, len(training[0])])\r\n",
        "net = tflearn.fully_connected(net, 8)\r\n",
        "net = tflearn.fully_connected(net, 8)\r\n",
        "net = tflearn.fully_connected(net, len(output[0]), activation=\"softmax\")\r\n",
        "net = tflearn.regression(net)\r\n",
        "\r\n",
        "model = tflearn.DNN(net)"
      ],
      "execution_count": null,
      "outputs": []
    },
    {
      "cell_type": "code",
      "metadata": {
        "id": "gTkw3z1FI7dY"
      },
      "source": [
        "model.fit(training, output, n_epoch=1000, batch_size=8, show_metric=True)\r\n",
        "model.save(\"model.tflearn\")"
      ],
      "execution_count": null,
      "outputs": []
    },
    {
      "cell_type": "code",
      "metadata": {
        "id": "MVGwKBQpI9vw"
      },
      "source": [
        "def bag_of_words(s, words):\r\n",
        "  bag = [0 for _ in range(len(words))]\r\n",
        "\r\n",
        "  s_words = nltk.word_tokenize(s)\r\n",
        "  s_words = [stemmer.stem(word.lower()) for word in s_words]\r\n",
        "\r\n",
        "  for se in s_words:\r\n",
        "    for i, w in enumerate(words):\r\n",
        "      if w == se:\r\n",
        "        bag[i] = 1\r\n",
        "            \r\n",
        "  return numpy.array(bag)"
      ],
      "execution_count": null,
      "outputs": []
    },
    {
      "cell_type": "code",
      "metadata": {
        "id": "5AdTSEP2NYDC"
      },
      "source": [
        "def chat():\r\n",
        "  print(\"Start talking with the bot (type quit to stop)!\")\r\n",
        "  while True:\r\n",
        "    inp = input(\"You: \")\r\n",
        "    if inp.lower() == \"quit\":\r\n",
        "      break\r\n",
        "\r\n",
        "    results = model.predict([bag_of_words(inp, words)])\r\n",
        "    results_index = numpy.argmax(results)\r\n",
        "    tag = labels[results_index]\r\n",
        "\r\n",
        "    for tg in data[\"intents\"]:\r\n",
        "      if tg['tag'] == tag:\r\n",
        "        responses = tg['responses']\r\n",
        "\r\n",
        "    print(random.choice(responses))\r\n",
        "\r\n",
        "chat()"
      ],
      "execution_count": null,
      "outputs": []
    }
  ]
}
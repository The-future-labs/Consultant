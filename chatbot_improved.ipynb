{
  "nbformat": 4,
  "nbformat_minor": 0,
  "metadata": {
    "colab": {
      "name": "chatbot_improved.ipynb",
      "provenance": [],
      "collapsed_sections": []
    },
    "kernelspec": {
      "name": "python3",
      "display_name": "Python 3"
    }
  },
  "cells": [
    {
      "cell_type": "code",
      "metadata": {
        "id": "-CGaFnjgG3My"
      },
      "source": [
        "import ntlk\r\n",
        "from ntlk.stem.lancaster import LancasterStemmer\r\n",
        "stemmer = LasncasterStemmer()\r\n",
        "import numpy\r\n",
        "import random\r\n",
        "import json"
      ],
      "execution_count": null,
      "outputs": []
    },
    {
      "cell_type": "code",
      "metadata": {
        "id": "KDrKLAdYIRJo"
      },
      "source": [
        "with open(\"intents.json\") as file:\r\n",
        "  data = json.load(file)\r\n",
        "\r\n",
        "try:\r\n",
        "  with open(\"data.pickle\", \"rb\") as f:\r\n",
        "    words, labels, training, output = pickle.load(f)\r\n",
        "except:\r\n",
        "words = []\r\n",
        "labels = []\r\n",
        "docs_x = []\r\n",
        "docs_y = []\r\n",
        "\r\n",
        "for intent in data['intents']:\r\n",
        "  for pattern in intent['patterns']:\r\n",
        "    wrds = nltk.word_tokenize(pattern)\r\n",
        "    words.extend(wrds)\r\n",
        "    docs_x.append(wrds)\r\n",
        "    docs_y.append(intent[\"tag\"])\r\n",
        "        \r\n",
        "  if intent['tag'] not in labels:\r\n",
        "    labels.append(intent['tag'])"
      ],
      "execution_count": null,
      "outputs": []
    },
    {
      "cell_type": "code",
      "metadata": {
        "id": "fDmdJJxnIpGQ"
      },
      "source": [
        "words = [stemmer.stem(w.lower()) for w in words if w != \"?\"]\r\n",
        "words = sorted(list(set(words)))\r\n",
        "\r\n",
        "labels = sorted(labels)\r\n",
        "\r\n",
        "training = []\r\n",
        "output = []\r\n",
        "\r\n",
        "out_empty = [0 for _ in range(len(labels))]\r\n",
        "\r\n",
        "for x, doc in enumerate(docs_x):\r\n",
        "  bag = []\r\n",
        "\r\n",
        "  wrds = [stemmer.stem(w.lower()) for w in doc]\r\n",
        "\r\n",
        "  for w in words:\r\n",
        "    if w in wrds:\r\n",
        "            bag.append(1)\r\n",
        "    else:\r\n",
        "            bag.append(0)\r\n",
        "\r\n",
        "  output_row = out_empty[:]\r\n",
        "  output_row[labels.index(docs_y[x])] = 1\r\n",
        "\r\n",
        "  training.append(bag)\r\n",
        "  output.append(output_row)\r\n",
        "\r\n",
        "training = numpy.array(training)\r\n",
        "output = numpy.array(output)"
      ],
      "execution_count": null,
      "outputs": []
    },
    {
      "cell_type": "code",
      "metadata": {
        "id": "Ou2c8iZ4I2ZA"
      },
      "source": [
        "tensorflow.reset_default_graph()\r\n",
        "\r\n",
        "net = tflearn.input_data(shape=[None, len(training[0])])\r\n",
        "net = tflearn.fully_connected(net, 8)\r\n",
        "net = tflearn.fully_connected(net, 8)\r\n",
        "net = tflearn.fully_connected(net, len(output[0]), activation=\"softmax\")\r\n",
        "net = tflearn.regression(net)\r\n",
        "\r\n",
        "model = tflearn.DNN(net)"
      ],
      "execution_count": null,
      "outputs": []
    },
    {
      "cell_type": "code",
      "metadata": {
        "id": "gTkw3z1FI7dY"
      },
      "source": [
        "model.fit(training, output, n_epoch=1000, batch_size=8, show_metric=True)\r\n",
        "model.save(\"model.tflearn\")"
      ],
      "execution_count": null,
      "outputs": []
    },
    {
      "cell_type": "code",
      "metadata": {
        "id": "MVGwKBQpI9vw"
      },
      "source": [
        "def bag_of_words(s, words):\r\n",
        "  bag = [0 for _ in range(len(words))]\r\n",
        "\r\n",
        "  s_words = nltk.word_tokenize(s)\r\n",
        "  s_words = [stemmer.stem(word.lower()) for word in s_words]\r\n",
        "\r\n",
        "  for se in s_words:\r\n",
        "    for i, w in enumerate(words):\r\n",
        "      if w == se:\r\n",
        "        bag[i] = 1\r\n",
        "            \r\n",
        "  return numpy.array(bag)"
      ],
      "execution_count": null,
      "outputs": []
    },
    {
      "cell_type": "code",
      "metadata": {
        "id": "5AdTSEP2NYDC"
      },
      "source": [
        "def chat():\r\n",
        "  print(\"Start talking with the bot (type quit to stop)!\")\r\n",
        "  while True:\r\n",
        "    inp = input(\"You: \")\r\n",
        "    if inp.lower() == \"quit\":\r\n",
        "      break\r\n",
        "\r\n",
        "    results = model.predict([bag_of_words(inp, words)])\r\n",
        "    results_index = numpy.argmax(results)\r\n",
        "    tag = labels[results_index]\r\n",
        "\r\n",
        "    for tg in data[\"intents\"]:\r\n",
        "      if tg['tag'] == tag:\r\n",
        "        responses = tg['responses']\r\n",
        "\r\n",
        "    print(random.choice(responses))\r\n",
        "\r\n",
        "chat()"
      ],
      "execution_count": null,
      "outputs": []
    }
  ]
}